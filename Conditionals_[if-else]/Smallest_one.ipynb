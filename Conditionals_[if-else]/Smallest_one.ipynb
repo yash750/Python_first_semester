{
 "cells": [
  {
   "cell_type": "markdown",
   "metadata": {},
   "source": [
    "~ Given three integers, find the smallest one."
   ]
  },
  {
   "cell_type": "code",
   "execution_count": 35,
   "metadata": {},
   "outputs": [
    {
     "name": "stdout",
     "output_type": "stream",
     "text": [
      "c : 0.0 is smallest\n",
      "All numbers are equal\n"
     ]
    }
   ],
   "source": [
    "a = float(input('Enter first number:'))                                 # Take three numbers as input from user for comparison.\n",
    "b = float(input('Enter Second number:'))\n",
    "c = float(input('Enter Third number:'))\n",
    "if a == b and b != c:                                                   # May be numbers are equal , we have to take care of it\n",
    "    print('First and Second numbers are equal')\n",
    "if b == c and a != c:\n",
    "    print('Second and Third number are equal')\n",
    "if a == c and b != a :\n",
    "    print('Third and First number are equal')\n",
    "if a < b:\n",
    "    if a < c:                                                           # Comparison of numbers to find smallest one\n",
    "        print('a :',a,'is smallest')\n",
    "    else:\n",
    "        print('c :',c,'is smallest')\n",
    "elif b < c:\n",
    "    print('b :',b,'is smallest')\n",
    "else:\n",
    "    print('c :',c,'is smallest')\n",
    "    if a == b and b == c:\n",
    "        print('All numbers are equal')"
   ]
  }
 ],
 "metadata": {
  "kernelspec": {
   "display_name": "Python 3",
   "language": "python",
   "name": "python3"
  },
  "language_info": {
   "codemirror_mode": {
    "name": "ipython",
    "version": 3
   },
   "file_extension": ".py",
   "mimetype": "text/x-python",
   "name": "python",
   "nbconvert_exporter": "python",
   "pygments_lexer": "ipython3",
   "version": "3.11.6"
  }
 },
 "nbformat": 4,
 "nbformat_minor": 2
}
