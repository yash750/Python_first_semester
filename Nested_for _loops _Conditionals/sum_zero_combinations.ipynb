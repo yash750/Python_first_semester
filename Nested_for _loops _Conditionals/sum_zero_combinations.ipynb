{
 "cells": [
  {
   "cell_type": "markdown",
   "metadata": {},
   "source": [
    "~ Given a list of integers, find all pairs of integers in the list whose sum is zero."
   ]
  },
  {
   "cell_type": "code",
   "execution_count": 15,
   "metadata": {},
   "outputs": [
    {
     "name": "stdout",
     "output_type": "stream",
     "text": [
      "Required combinations are: [(1, -1), (2, -2), (3, -3), (0, 0)]\n"
     ]
    }
   ],
   "source": [
    "l = [1,2,3,0,4,5,-1,-2,-3,0,-1]\n",
    "ln = []\n",
    "for i in l:\n",
    "    for j in l:\n",
    "        if i + j == 0:\n",
    "            if (i, j) not in ln:\n",
    "            # opposite ordered pair(of actual numbers) also gives sum zero, so we avoid it.\n",
    "                if (j,i) not in ln:\n",
    "                    ln.append((i, j))\n",
    "print('Required combinations are:',ln)"
   ]
  }
 ],
 "metadata": {
  "kernelspec": {
   "display_name": "Python 3",
   "language": "python",
   "name": "python3"
  },
  "language_info": {
   "codemirror_mode": {
    "name": "ipython",
    "version": 3
   },
   "file_extension": ".py",
   "mimetype": "text/x-python",
   "name": "python",
   "nbconvert_exporter": "python",
   "pygments_lexer": "ipython3",
   "version": "3.11.6"
  }
 },
 "nbformat": 4,
 "nbformat_minor": 2
}
