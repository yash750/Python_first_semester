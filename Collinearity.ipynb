{
 "cells": [
  {
   "cell_type": "markdown",
   "metadata": {},
   "source": [
    "~ Given three points, find out whether they lie on the same straight line or not."
   ]
  },
  {
   "cell_type": "code",
   "execution_count": null,
   "metadata": {},
   "outputs": [],
   "source": [
    "# First we take input the values of three distinct points.\n",
    "x1=float(input('enter value of x1:'))\n",
    "y1=float(input('enter value of y1:'))\n",
    "print('given first point is:',(x1,y1))\n",
    "x2=float(input('enter value of x2:'))\n",
    "y2=float(input('enter value of y2:'))\n",
    "print('given second point is:',(x2,y2))\n",
    "x3=float(input('enter value of x3:'))\n",
    "y3=float(input('enter value of y3:'))\n",
    "print('given third point is:',(x3,y3))\n",
    "if x2-x1 !=0 and x3-x2 != 0 :\n",
    "    #mathematical logic to check collinearity.\n",
    "    # slope of ab = slope of bc\n",
    "    slope_ab= (y2-y1)/(x2-x1)\n",
    "    slope_bc = (y3-y2)/(x3-x2)\n",
    "    if  slope_ab == slope_bc :\n",
    "        print('given points are collinear')\n",
    "    else:\n",
    "        print('points are not collinear')\n",
    "elif x1==x2 and x2==x1:\n",
    "    print('---> points are collinear with infinite slope.')\n",
    "else:\n",
    "    print('points are not collinear.')"
   ]
  }
 ],
 "metadata": {
  "kernelspec": {
   "display_name": "Python 3",
   "language": "python",
   "name": "python3"
  },
  "language_info": {
   "name": "python",
   "version": "3.11.6"
  }
 },
 "nbformat": 4,
 "nbformat_minor": 2
}
