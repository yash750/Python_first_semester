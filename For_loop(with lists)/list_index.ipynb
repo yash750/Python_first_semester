{
 "cells": [
  {
   "cell_type": "markdown",
   "metadata": {},
   "source": [
    "~ Given a list of numbers, find out the index of another given number."
   ]
  },
  {
   "cell_type": "code",
   "execution_count": 8,
   "metadata": {},
   "outputs": [
    {
     "name": "stdout",
     "output_type": "stream",
     "text": [
      "Index of given number : 5\n"
     ]
    }
   ],
   "source": [
    "l = [20,40,60,50,100,4,2,-30,5.5]        # Take a list 0f random numbers.\n",
    "a = 4                                    # Take an another sample number for checking its index in list.\n",
    "if a in l:                               # At first, we have to check given number is in list or not.\n",
    "    for i in range(len(l)):\n",
    "        if a == l[i]:\n",
    "            index = i                    # By comparing ,given number with numbers of list ,we can find out its index.\n",
    "            print('Index of given number :',index)\n",
    "else:\n",
    "    print('Given number is not in list.')"
   ]
  }
 ],
 "metadata": {
  "kernelspec": {
   "display_name": "Python 3",
   "language": "python",
   "name": "python3"
  },
  "language_info": {
   "codemirror_mode": {
    "name": "ipython",
    "version": 3
   },
   "file_extension": ".py",
   "mimetype": "text/x-python",
   "name": "python",
   "nbconvert_exporter": "python",
   "pygments_lexer": "ipython3",
   "version": "3.11.6"
  }
 },
 "nbformat": 4,
 "nbformat_minor": 2
}
