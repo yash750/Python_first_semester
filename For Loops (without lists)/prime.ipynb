{
 "cells": [
  {
   "cell_type": "markdown",
   "metadata": {},
   "source": [
    "~ Given a positive integer, find out if it’s prime or not."
   ]
  },
  {
   "cell_type": "code",
   "execution_count": 6,
   "metadata": {},
   "outputs": [
    {
     "name": "stdout",
     "output_type": "stream",
     "text": [
      "prime\n"
     ]
    }
   ],
   "source": [
    "n = int(input('Enter a positive integer:'))\n",
    "if n > 1 :                                              # Smallest prime number is 2 , so we check for numbers greater than one.\n",
    "    a = 0\n",
    "    x = int(n**(0.5))\n",
    "    for i in range(2,(x+1)):\n",
    "        if n%i==0:                                      # Here, we check whether given number is divisible by another number or not.\n",
    "            a=a+1                                       # prime is divisible by one or itself only.\n",
    "    if  a > 0 :\n",
    "        print(\"not prime\")\n",
    "    else:\n",
    "        print(\"prime\")\n",
    "else:\n",
    "    print('enter integer larger than 01')"
   ]
  }
 ],
 "metadata": {
  "kernelspec": {
   "display_name": "Python 3",
   "language": "python",
   "name": "python3"
  },
  "language_info": {
   "codemirror_mode": {
    "name": "ipython",
    "version": 3
   },
   "file_extension": ".py",
   "mimetype": "text/x-python",
   "name": "python",
   "nbconvert_exporter": "python",
   "pygments_lexer": "ipython3",
   "version": "3.11.6"
  }
 },
 "nbformat": 4,
 "nbformat_minor": 2
}
