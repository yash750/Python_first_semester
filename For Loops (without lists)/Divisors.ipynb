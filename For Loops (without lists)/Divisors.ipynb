{
 "cells": [
  {
   "cell_type": "markdown",
   "metadata": {},
   "source": [
    "~ Given a positive integer, find all its divisors."
   ]
  },
  {
   "cell_type": "code",
   "execution_count": 14,
   "metadata": {},
   "outputs": [
    {
     "name": "stdout",
     "output_type": "stream",
     "text": [
      "Divisors of given number are following:\n",
      "1\n",
      "2\n",
      "3\n",
      "6\n",
      "11\n",
      "22\n",
      "33\n",
      "66\n"
     ]
    }
   ],
   "source": [
    "n = int(input('Enter a positive integer:'))                 # Take a input as a positive integer\n",
    "if n > 0:\n",
    "    print('Divisors of given number are following:')\n",
    "    for i in range(1,n+1):\n",
    "        if n % i == 0:                                      # Check divisors one by one , any number is divisor of given number if it gives remainder equals to zer0.\n",
    "            print(i)\n",
    "else:\n",
    "    print('Only positive integers are valid input.')"
   ]
  }
 ],
 "metadata": {
  "kernelspec": {
   "display_name": "Python 3",
   "language": "python",
   "name": "python3"
  },
  "language_info": {
   "codemirror_mode": {
    "name": "ipython",
    "version": 3
   },
   "file_extension": ".py",
   "mimetype": "text/x-python",
   "name": "python",
   "nbconvert_exporter": "python",
   "pygments_lexer": "ipython3",
   "version": "3.11.6"
  }
 },
 "nbformat": 4,
 "nbformat_minor": 2
}
