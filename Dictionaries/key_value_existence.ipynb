{
 "cells": [
  {
   "cell_type": "markdown",
   "metadata": {},
   "source": [
    "~ Check if a key exists in a dictionary:\n",
    "  sample_dict = {‘a’: 100, ‘b’: 200, ‘c’: 300}\n",
    "  key_needed = ‘d’\n",
    "  Check if a value exists in a dictionary:\n",
    "  sample_dict = {‘a’: 100, ‘b’: 200, ‘c’: 300}\n",
    "  value_needed = 200"
   ]
  },
  {
   "cell_type": "code",
   "execution_count": 1,
   "metadata": {},
   "outputs": [
    {
     "name": "stdout",
     "output_type": "stream",
     "text": [
      "key_needed : False\n",
      "value_needed : True\n"
     ]
    }
   ],
   "source": [
    "sample_dict = {'a': 100, 'b': 200, 'c': 300}\n",
    "key_needed = 'd'                                # Specify keys and values to check their existence.\n",
    "sample_dict = {'a': 100, 'b': 200, 'c': 300}\n",
    "value_needed = 100\n",
    "if key_needed in sample_dict.keys():\n",
    "    output_key = True\n",
    "    if value_needed in sample_dict.values():\n",
    "        output_value = True\n",
    "    else:\n",
    "        output_value = False\n",
    "elif value_needed in sample_dict.values():\n",
    "    output_value = True\n",
    "    output_key = False\n",
    "else:\n",
    "    output_key = False\n",
    "    output_value = False\n",
    "print('key_needed :',output_key)\n",
    "print('value_needed :',output_value)"
   ]
  }
 ],
 "metadata": {
  "kernelspec": {
   "display_name": "Python 3",
   "language": "python",
   "name": "python3"
  },
  "language_info": {
   "codemirror_mode": {
    "name": "ipython",
    "version": 3
   },
   "file_extension": ".py",
   "mimetype": "text/x-python",
   "name": "python",
   "nbconvert_exporter": "python",
   "pygments_lexer": "ipython3",
   "version": "3.11.6"
  }
 },
 "nbformat": 4,
 "nbformat_minor": 2
}
