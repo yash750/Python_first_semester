{
 "cells": [
  {
   "cell_type": "markdown",
   "metadata": {},
   "source": [
    "~ Check if a key exists in a dictionary:\n",
    "  sample_dict = {‘a’: 100, ‘b’: 200, ‘c’: 300}\n",
    "  key_needed = ‘d’\n",
    "  Check if a value exists in a dictionary:\n",
    "  sample_dict = {‘a’: 100, ‘b’: 200, ‘c’: 300}\n",
    "  value_needed = 200"
   ]
  },
  {
   "cell_type": "code",
   "execution_count": 27,
   "metadata": {},
   "outputs": [
    {
     "name": "stdout",
     "output_type": "stream",
     "text": [
      "True for value\n",
      "False for key\n"
     ]
    }
   ],
   "source": [
    "sample_dict = {'a': 100, 'b': 200, 'c': 300}\n",
    "key_needed = 'd'                                # Specify keys and values to check their existence.\n",
    "sample_dict = {'a': 100, 'b': 200, 'c': 300}\n",
    "value_needed = 100\n",
    "if value_needed in sample_dict.values():        # Checking their existence in given dictionary by using simple conditionals.\n",
    "    print(True,'for value')\n",
    "if key_needed in sample_dict.keys():\n",
    "    print(True,'for key')\n",
    "if key_needed not in sample_dict.keys():\n",
    "    print(False,'for key')\n",
    "if value_needed not in sample_dict.values():\n",
    "    print(False,'for value')"
   ]
  }
 ],
 "metadata": {
  "kernelspec": {
   "display_name": "Python 3",
   "language": "python",
   "name": "python3"
  },
  "language_info": {
   "codemirror_mode": {
    "name": "ipython",
    "version": 3
   },
   "file_extension": ".py",
   "mimetype": "text/x-python",
   "name": "python",
   "nbconvert_exporter": "python",
   "pygments_lexer": "ipython3",
   "version": "3.11.6"
  }
 },
 "nbformat": 4,
 "nbformat_minor": 2
}
