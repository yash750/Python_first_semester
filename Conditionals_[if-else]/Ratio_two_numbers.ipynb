{
 "cells": [
  {
   "cell_type": "markdown",
   "metadata": {},
   "source": [
    "~ Given two numbers, a and b, find the value of a/b (b may be zero)."
   ]
  },
  {
   "cell_type": "code",
   "execution_count": 13,
   "metadata": {},
   "outputs": [
    {
     "name": "stdout",
     "output_type": "stream",
     "text": [
      "Denominator is zero, Ratio not defined\n"
     ]
    }
   ],
   "source": [
    "a = float(input('Enter first number:'))                 # Take two numbers to find ratio.\n",
    "b = float(input('Enter second number:'))\n",
    "if b != 0:                                              # Take care about denominator i.e, b cannot be zero , it leads to undefined ratio.\n",
    "    ratio = a/b\n",
    "    print('Ratio is:',ratio)\n",
    "else:\n",
    "    print('Denominator is zero, Ratio not defined')"
   ]
  }
 ],
 "metadata": {
  "kernelspec": {
   "display_name": "Python 3",
   "language": "python",
   "name": "python3"
  },
  "language_info": {
   "codemirror_mode": {
    "name": "ipython",
    "version": 3
   },
   "file_extension": ".py",
   "mimetype": "text/x-python",
   "name": "python",
   "nbconvert_exporter": "python",
   "pygments_lexer": "ipython3",
   "version": "3.11.6"
  }
 },
 "nbformat": 4,
 "nbformat_minor": 2
}
