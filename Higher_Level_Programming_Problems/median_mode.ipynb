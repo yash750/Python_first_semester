{
 "cells": [
  {
   "cell_type": "markdown",
   "metadata": {},
   "source": [
    "~ Given a list of numbers, find out the median and mode."
   ]
  },
  {
   "cell_type": "code",
   "execution_count": 43,
   "metadata": {},
   "outputs": [
    {
     "name": "stdout",
     "output_type": "stream",
     "text": [
      "Median of given data is: 60\n",
      "Mode of given data is : 35\n"
     ]
    }
   ],
   "source": [
    "lst = [35,24,10,56,74,35,100,6,100,94,85,60,35,100,100]\n",
    "for x in range(len(lst)):\n",
    "    for j in range(0,len(lst)-(x+1)):\n",
    "        if lst[j] > lst[j+1]:\n",
    "            lst[j],lst[j+1] =lst[j+1],lst[j]\n",
    "#print('Sorted list :',lst)\n",
    "n = (len(lst))\n",
    "i =int(n/2)\n",
    "if n % 2 == 0:\n",
    "    median = (lst[(i)-1] + lst[i])/2\n",
    "else:\n",
    "    median = lst[(i)]\n",
    "print('Median of given data is:',median)\n",
    "l=[]\n",
    "for y in lst:\n",
    "    if y not in l:\n",
    "        l.append(y)\n",
    "freq = []\n",
    "for z in l:\n",
    "    count = 0\n",
    "    for r in lst:\n",
    "        if z == r:\n",
    "            count = count+1\n",
    "    freq.append(count)\n",
    "dict_freq = {}\n",
    "p=0\n",
    "for d in l:\n",
    "    dict_freq[d] = freq[p]\n",
    "    p=p+1\n",
    "mode = freq[0]\n",
    "for k,v in dict_freq.items():\n",
    "    if v > mode:\n",
    "        mode = k\n",
    "print('Mode of given data is :',mode)"
   ]
  }
 ],
 "metadata": {
  "kernelspec": {
   "display_name": "Python 3",
   "language": "python",
   "name": "python3"
  },
  "language_info": {
   "codemirror_mode": {
    "name": "ipython",
    "version": 3
   },
   "file_extension": ".py",
   "mimetype": "text/x-python",
   "name": "python",
   "nbconvert_exporter": "python",
   "pygments_lexer": "ipython3",
   "version": "3.11.6"
  }
 },
 "nbformat": 4,
 "nbformat_minor": 2
}
