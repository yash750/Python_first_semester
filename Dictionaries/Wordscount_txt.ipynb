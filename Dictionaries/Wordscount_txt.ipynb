{
 "cells": [
  {
   "cell_type": "markdown",
   "metadata": {},
   "source": [
    "~ Create a text file with one word in each line. The words can be repeated, i.e. the same word can come in more than one line. Read this text file in python, and create a dictionary where the key is the word and the value is the number of times it occurs in the text file."
   ]
  },
  {
   "cell_type": "code",
   "execution_count": 13,
   "metadata": {},
   "outputs": [
    {
     "name": "stdout",
     "output_type": "stream",
     "text": [
      "{'yash': 3, 'narayan': 2, 'ram': 3, 'krishna': 1, 'shiv': 1}\n"
     ]
    }
   ],
   "source": [
    "with open('dict_txt.txt', 'r') as txt_file:\n",
    "    Words = []\n",
    "    Words2 = []\n",
    "    for word in txt_file:\n",
    "        word = word.strip()\n",
    "        Words2.append(word)\n",
    "        if word not in Words:\n",
    "            Words.append(word)\n",
    "\n",
    "Word_count = {}\n",
    "for w in Words:\n",
    "    count = 0\n",
    "    for v in Words2:\n",
    "        if w == v:\n",
    "            count = count+1\n",
    "    Word_count[w] = count\n",
    "    \n",
    "print(Word_count)\n"
   ]
  }
 ],
 "metadata": {
  "kernelspec": {
   "display_name": "Python 3",
   "language": "python",
   "name": "python3"
  },
  "language_info": {
   "codemirror_mode": {
    "name": "ipython",
    "version": 3
   },
   "file_extension": ".py",
   "mimetype": "text/x-python",
   "name": "python",
   "nbconvert_exporter": "python",
   "pygments_lexer": "ipython3",
   "version": "3.11.6"
  }
 },
 "nbformat": 4,
 "nbformat_minor": 2
}
