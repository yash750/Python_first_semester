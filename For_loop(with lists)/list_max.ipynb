{
 "cells": [
  {
   "cell_type": "markdown",
   "metadata": {},
   "source": [
    "~ Given a list of numbers, find out the maximum number."
   ]
  },
  {
   "cell_type": "code",
   "execution_count": 3,
   "metadata": {},
   "outputs": [
    {
     "name": "stdout",
     "output_type": "stream",
     "text": [
      "Maximum of all numbers: 700\n",
      "index of maximum number is: 3\n"
     ]
    }
   ],
   "source": [
    "l = [-100,0,4,700,9.5000,50]\n",
    "maxi = l[0]\n",
    "for i in range(len(l)):\n",
    "    # First we assign index zero number as maximum.\n",
    "    # then, we compare all numbers with it ,and find maximum from all.\n",
    "    if l[i] > maxi:\n",
    "        maxi = l[i]\n",
    "        index = i\n",
    "print('Maximum of all numbers:',maxi)\n",
    "print('index of maximum number is:',index)"
   ]
  }
 ],
 "metadata": {
  "kernelspec": {
   "display_name": "Python 3",
   "language": "python",
   "name": "python3"
  },
  "language_info": {
   "codemirror_mode": {
    "name": "ipython",
    "version": 3
   },
   "file_extension": ".py",
   "mimetype": "text/x-python",
   "name": "python",
   "nbconvert_exporter": "python",
   "pygments_lexer": "ipython3",
   "version": "3.11.6"
  }
 },
 "nbformat": 4,
 "nbformat_minor": 2
}
