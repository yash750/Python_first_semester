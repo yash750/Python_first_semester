{
 "cells": [
  {
   "cell_type": "markdown",
   "metadata": {},
   "source": [
    "~ Given two numbers, find its Least Common Multiple (LCM)."
   ]
  },
  {
   "cell_type": "code",
   "execution_count": 2,
   "metadata": {},
   "outputs": [
    {
     "name": "stdout",
     "output_type": "stream",
     "text": [
      "lcm is  30\n"
     ]
    }
   ],
   "source": [
    "num1 = 6\n",
    "num2 = 15\n",
    "for i in range(max(num1,num2),((num1*num2)+1)):\n",
    "    # we get the number, which is divisible by both given numbers simultaneously.\n",
    "    # this number is least common multiple.\n",
    "    if i%num1==0 and i%num2==0:\n",
    "        lcm=i\n",
    "        break                                 \n",
    "print(\"lcm is \",lcm)"
   ]
  }
 ],
 "metadata": {
  "kernelspec": {
   "display_name": "Python 3",
   "language": "python",
   "name": "python3"
  },
  "language_info": {
   "codemirror_mode": {
    "name": "ipython",
    "version": 3
   },
   "file_extension": ".py",
   "mimetype": "text/x-python",
   "name": "python",
   "nbconvert_exporter": "python",
   "pygments_lexer": "ipython3",
   "version": "3.11.6"
  }
 },
 "nbformat": 4,
 "nbformat_minor": 2
}
