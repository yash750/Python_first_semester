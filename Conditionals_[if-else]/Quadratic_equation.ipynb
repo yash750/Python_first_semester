{
 "cells": [
  {
   "cell_type": "markdown",
   "metadata": {},
   "source": [
    "~ Given a quadratic equation with coefficients a, b and c, find the two solutions (may be real or complex). You should not take the square root of a negative number in your code."
   ]
  },
  {
   "cell_type": "code",
   "execution_count": 2,
   "metadata": {},
   "outputs": [
    {
     "name": "stdout",
     "output_type": "stream",
     "text": [
      "a is: 0.0\n",
      "b is 4.0\n",
      "c is 6.0\n",
      " a is zero,equation is linear\n",
      "only solution is: -1.5\n"
     ]
    }
   ],
   "source": [
    "a=float(input('enter coefficient a :'))                                     # First take inputs for coefficients to make quadratic.\n",
    "print('a is:',a)\n",
    "b=float(input('enter coefficient b :'))\n",
    "print('b is',b)\n",
    "c=float(input('enter coefficient c :'))\n",
    "print('c is',c)\n",
    "#a,b,c = 1,1,1                                                               --These are some Test Cases according to different possibilities.--\n",
    "#a,b,c = 2,1,0\n",
    "#a,b,c = 0,1,2\n",
    "#a,b,c = 1,4,4\n",
    "d= (b**2 )- (4*a*c)                                                        # <------- it is  \" Formula for discriminant \" -----> \n",
    "if d >=0:                                                                   # If D is +ve then solutions are real , otherwise solutions are complex.\n",
    "    if a== 0:\n",
    "        #first check value of a \n",
    "        # if a=0 then equation is no more quadratic ,it becomes linear\n",
    "        print(' a is zero,equation is linear')\n",
    "        print('only solution is:',(-c/b))\n",
    "    else:                                                                   # For solutions we have to execute Quadratic Formula.\n",
    "        r1 =(-b + (d**(1/2)))/(2*a)\n",
    "        r2= (-b - (d**(1/2)))/(2*a)\n",
    "        print('two real solutions are :',(r1,r2))\n",
    "else:\n",
    "    real = -b/(2*a)                                                         # ---- Determining complex solutions ----\n",
    "    complex_1 = (str(-d)+'i')+'/'+str(2*a)\n",
    "    complex_2 = ('-'+(str(-d)+'i'))+'/'+str(2*a)\n",
    "    print('Both solutions are complex')\n",
    "    print('First solution is:',real,'+',complex_1)\n",
    "    print('Another solution is:',real,'+',complex_2)"
   ]
  }
 ],
 "metadata": {
  "kernelspec": {
   "display_name": "Python 3",
   "language": "python",
   "name": "python3"
  },
  "language_info": {
   "codemirror_mode": {
    "name": "ipython",
    "version": 3
   },
   "file_extension": ".py",
   "mimetype": "text/x-python",
   "name": "python",
   "nbconvert_exporter": "python",
   "pygments_lexer": "ipython3",
   "version": "3.11.6"
  }
 },
 "nbformat": 4,
 "nbformat_minor": 2
}
