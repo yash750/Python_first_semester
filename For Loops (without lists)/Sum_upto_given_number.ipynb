{
 "cells": [
  {
   "cell_type": "markdown",
   "metadata": {},
   "source": [
    "~ Given a positive integer, find out the sum of all integers from 1 up to this number."
   ]
  },
  {
   "cell_type": "code",
   "execution_count": 5,
   "metadata": {},
   "outputs": [
    {
     "name": "stdout",
     "output_type": "stream",
     "text": [
      "Sum of integers from 1 upto given number: 55\n"
     ]
    }
   ],
   "source": [
    "n = int(input('Enter a positive integer:')) # Take a positive integer as an input from user.\n",
    "if n > 0:\n",
    "    Sum = 0                                 # First we assign sum as zero\n",
    "    for i in range(n):                      # Then , take numbers one by one and added them.\n",
    "        Sum = Sum + (i+1)\n",
    "    print('Sum of integers from 1 upto given number:',Sum)\n",
    "else:\n",
    "    print('Only positive integers are valid input.')"
   ]
  }
 ],
 "metadata": {
  "kernelspec": {
   "display_name": "Python 3",
   "language": "python",
   "name": "python3"
  },
  "language_info": {
   "codemirror_mode": {
    "name": "ipython",
    "version": 3
   },
   "file_extension": ".py",
   "mimetype": "text/x-python",
   "name": "python",
   "nbconvert_exporter": "python",
   "pygments_lexer": "ipython3",
   "version": "3.11.6"
  }
 },
 "nbformat": 4,
 "nbformat_minor": 2
}
