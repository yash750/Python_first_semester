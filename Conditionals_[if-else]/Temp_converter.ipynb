{
 "cells": [
  {
   "cell_type": "markdown",
   "metadata": {},
   "source": [
    "~ Given a temperature in Celsius, convert it to Fahrenheit using the formula F = (C * 1.8) + 32. If the temperature is above 90°F, print “It’s hot outside!” otherwise, print “The temperature is pleasant”."
   ]
  },
  {
   "cell_type": "code",
   "execution_count": 2,
   "metadata": {},
   "outputs": [
    {
     "name": "stdout",
     "output_type": "stream",
     "text": [
      "Temp in Fahrenheit is: 22.1\n",
      "The Temperature is pleasant\n"
     ]
    }
   ],
   "source": [
    "c=float(input('Enter temp. in celsius :'))                # first take input the temperature in terms of fahrenheit.\n",
    "f = (c*1.8) + 32                                               # formula to convert temperature fahrenheit to celsius. \n",
    "print('Temp in Fahrenheit is:',f)                          \n",
    "if f > 90:\n",
    "    print(\"It’s hot outside!\")                             # Temperature in fahrenheit :\n",
    "else:                                                      #   Above  90 F ------- it means it's hot outside.\n",
    "    print('The Temperature is pleasant')                   # Otherwise , Temperature is pleasant."
   ]
  }
 ],
 "metadata": {
  "kernelspec": {
   "display_name": "Python 3",
   "language": "python",
   "name": "python3"
  },
  "language_info": {
   "codemirror_mode": {
    "name": "ipython",
    "version": 3
   },
   "file_extension": ".py",
   "mimetype": "text/x-python",
   "name": "python",
   "nbconvert_exporter": "python",
   "pygments_lexer": "ipython3",
   "version": "3.11.6"
  }
 },
 "nbformat": 4,
 "nbformat_minor": 2
}
