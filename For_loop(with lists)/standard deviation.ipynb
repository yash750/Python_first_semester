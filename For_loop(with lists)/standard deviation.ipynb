{
 "cells": [
  {
   "cell_type": "markdown",
   "metadata": {},
   "source": [
    "~ Given a list of numbers, find out the mean and standard deviation."
   ]
  },
  {
   "cell_type": "code",
   "execution_count": 2,
   "metadata": {},
   "outputs": [
    {
     "name": "stdout",
     "output_type": "stream",
     "text": [
      "Mean of given data : 26.5\n",
      "Standard Deviation : 33.19513016493032\n"
     ]
    }
   ],
   "source": [
    "l = [8,94,6,2,43,6]\n",
    "Sum = 0\n",
    "for i in l:\n",
    "    Sum = Sum+i\n",
    "mean = Sum/len(l)  # mean = (summation of all datas)/(total numbers of elements)\n",
    "summation = 0\n",
    "for num in l:\n",
    "    # Standard Deviation = (sum((x-mean)**2)/total number of elements)**(0.5)\n",
    "    summation = summation + (num - mean)**2\n",
    "sd = (summation/len(l))**(0.5)\n",
    "print('Mean of given data :',mean)\n",
    "print('Standard Deviation :',sd)"
   ]
  }
 ],
 "metadata": {
  "kernelspec": {
   "display_name": "Python 3",
   "language": "python",
   "name": "python3"
  },
  "language_info": {
   "codemirror_mode": {
    "name": "ipython",
    "version": 3
   },
   "file_extension": ".py",
   "mimetype": "text/x-python",
   "name": "python",
   "nbconvert_exporter": "python",
   "pygments_lexer": "ipython3",
   "version": "3.11.6"
  }
 },
 "nbformat": 4,
 "nbformat_minor": 2
}
