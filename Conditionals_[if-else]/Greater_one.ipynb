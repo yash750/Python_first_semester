{
 "cells": [
  {
   "cell_type": "markdown",
   "metadata": {},
   "source": [
    "~ Given two integers, find the larger one."
   ]
  },
  {
   "cell_type": "code",
   "execution_count": 8,
   "metadata": {},
   "outputs": [
    {
     "name": "stdout",
     "output_type": "stream",
     "text": [
      "Both are equal\n"
     ]
    }
   ],
   "source": [
    "num1 = int(input('enter the first integer :'))          # Take two integers as input from user for comparison.\n",
    "num2 = int(input('enter the second integer :'))\n",
    "if num1 > num2 :                                        # Take all possibilities :\n",
    "    print('First integer is greater')                   # (1). num1 > num2   ;first number could be greater \n",
    "elif num1 == num2:                                      # (2). num1 == num2  ; may be both are equal\n",
    "    print('Both are equal')                             # (3). num2 > num1   ;second number could be greater\n",
    "else:\n",
    "    print('Second integer is greater')"
   ]
  }
 ],
 "metadata": {
  "kernelspec": {
   "display_name": "Python 3",
   "language": "python",
   "name": "python3"
  },
  "language_info": {
   "codemirror_mode": {
    "name": "ipython",
    "version": 3
   },
   "file_extension": ".py",
   "mimetype": "text/x-python",
   "name": "python",
   "nbconvert_exporter": "python",
   "pygments_lexer": "ipython3",
   "version": "3.11.6"
  }
 },
 "nbformat": 4,
 "nbformat_minor": 2
}
