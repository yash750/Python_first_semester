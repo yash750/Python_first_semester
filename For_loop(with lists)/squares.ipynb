{
 "cells": [
  {
   "cell_type": "markdown",
   "metadata": {},
   "source": [
    "~ Given a list of numbers, find the squares of all the numbers."
   ]
  },
  {
   "cell_type": "code",
   "execution_count": 5,
   "metadata": {},
   "outputs": [
    {
     "name": "stdout",
     "output_type": "stream",
     "text": [
      "[4, 0.16000000000000003, 2.0000000000000004, 16, 36, 64, 100]\n"
     ]
    }
   ],
   "source": [
    "l = [-2,0.4,2**(0.5),4,6,8,10]        # Take input list of numbers.\n",
    "sq_list = []\n",
    "for i in l:\n",
    "    i = i**2                          # Squaring all numbers one by one.\n",
    "    sq_list.append(i)                 # Then, append their squares in another list.\n",
    "print(sq_list)"
   ]
  }
 ],
 "metadata": {
  "kernelspec": {
   "display_name": "Python 3",
   "language": "python",
   "name": "python3"
  },
  "language_info": {
   "codemirror_mode": {
    "name": "ipython",
    "version": 3
   },
   "file_extension": ".py",
   "mimetype": "text/x-python",
   "name": "python",
   "nbconvert_exporter": "python",
   "pygments_lexer": "ipython3",
   "version": "3.11.6"
  }
 },
 "nbformat": 4,
 "nbformat_minor": 2
}
