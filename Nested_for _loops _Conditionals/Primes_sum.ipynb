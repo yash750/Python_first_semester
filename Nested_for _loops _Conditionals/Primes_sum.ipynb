{
 "cells": [
  {
   "cell_type": "markdown",
   "metadata": {},
   "source": [
    "~ Given a positive integers, find out the sum of all prime numbers from 1 up to this number."
   ]
  },
  {
   "cell_type": "code",
   "execution_count": 3,
   "metadata": {},
   "outputs": [
    {
     "name": "stdout",
     "output_type": "stream",
     "text": [
      "All prime no. are upto given number: [3, 5, 7, 11, 13, 17]\n",
      "Sum of all prime numbers upto this given number : 56\n"
     ]
    }
   ],
   "source": [
    "n = 17  \n",
    "primes=[]\n",
    "for j in range(2,n):\n",
    "    a = 0\n",
    "    j = j+1\n",
    "    x = int(j**(0.5))\n",
    "    for i in range(2,(x+1)):\n",
    "        if j%i==0:               # Here, we check whether given number is divisible by another number or not.\n",
    "            a=a+1                # prime is divisible by one or itself only.\n",
    "            # If given number is not divisible by any number ,then it is prime,so we append it into list.\n",
    "    if a <= 0:\n",
    "        primes.append(j)\n",
    "print('All prime no. are upto given number:',primes)\n",
    "S = 0\n",
    "for l in primes: # by looping , we added all list elements(prime numbers).\n",
    "    S = S+l\n",
    "print('Sum of all prime numbers upto this given number :',S)"
   ]
  }
 ],
 "metadata": {
  "kernelspec": {
   "display_name": "Python 3",
   "language": "python",
   "name": "python3"
  },
  "language_info": {
   "codemirror_mode": {
    "name": "ipython",
    "version": 3
   },
   "file_extension": ".py",
   "mimetype": "text/x-python",
   "name": "python",
   "nbconvert_exporter": "python",
   "pygments_lexer": "ipython3",
   "version": "3.11.6"
  }
 },
 "nbformat": 4,
 "nbformat_minor": 2
}
