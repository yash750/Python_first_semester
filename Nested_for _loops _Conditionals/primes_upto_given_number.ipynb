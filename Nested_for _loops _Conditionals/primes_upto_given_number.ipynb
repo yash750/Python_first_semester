{
 "cells": [
  {
   "cell_type": "markdown",
   "metadata": {},
   "source": [
    "~ Given a positive integer, find out all prime numbers from 1 up to this number."
   ]
  },
  {
   "cell_type": "code",
   "execution_count": 3,
   "metadata": {},
   "outputs": [
    {
     "name": "stdout",
     "output_type": "stream",
     "text": [
      "All prime no. are upto given number: [3, 5, 7, 11, 13, 17]\n"
     ]
    }
   ],
   "source": [
    "n = 17\n",
    "primes=[]\n",
    "# smallest prime number is 2 , so we start checking from same.\n",
    "for j in range(2,n):\n",
    "    a = 0\n",
    "    j = j+1\n",
    "    x = int(j**(0.5))\n",
    "    for i in range(2,(x+1)):\n",
    "        # Here, we check whether given number is divisible by another number or not.                                      \n",
    "        # prime is divisible by one or itself only.\n",
    "        if j%i==0:                                      \n",
    "            a=a+1                                       \n",
    "    if a <= 0:\n",
    "        primes.append(j)\n",
    "print('All prime no. are upto given number:',primes)"
   ]
  }
 ],
 "metadata": {
  "kernelspec": {
   "display_name": "Python 3",
   "language": "python",
   "name": "python3"
  },
  "language_info": {
   "codemirror_mode": {
    "name": "ipython",
    "version": 3
   },
   "file_extension": ".py",
   "mimetype": "text/x-python",
   "name": "python",
   "nbconvert_exporter": "python",
   "pygments_lexer": "ipython3",
   "version": "3.11.6"
  }
 },
 "nbformat": 4,
 "nbformat_minor": 2
}
