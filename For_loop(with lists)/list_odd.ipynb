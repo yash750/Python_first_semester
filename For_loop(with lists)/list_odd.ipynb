{
 "cells": [
  {
   "cell_type": "markdown",
   "metadata": {},
   "source": [
    "~ Given a list of numbers, find all the odd numbers in it."
   ]
  },
  {
   "cell_type": "code",
   "execution_count": 8,
   "metadata": {},
   "outputs": [
    {
     "name": "stdout",
     "output_type": "stream",
     "text": [
      "1.2 is not integer.\n",
      "3 is odd number\n",
      "4.4 is not integer.\n",
      "5 is odd number\n",
      "-7 is odd number\n",
      "9 is odd number\n",
      "Odd numbers are: [3, 5, -7, 9]\n"
     ]
    }
   ],
   "source": [
    "l = [0,1.2,2,3,4.4,5,-6,-7,8,9]         # Take a list of random numbers.\n",
    "list_odd = []\n",
    "for i in l:\n",
    "    if isinstance(i,int):               # Fractional and decimal numbers don't fall into the categories of even or odd.\n",
    "        if i % 2 != 0:                  # because they are not integers.\n",
    "            print(i,'is odd number')\n",
    "            list_odd.append(i)          # odd numbers are integers that are not divisible by 2 without leaving a remainder.\n",
    "    else:\n",
    "        print(i,'is not integer.')\n",
    "print('Odd numbers are:',list_odd)"
   ]
  }
 ],
 "metadata": {
  "kernelspec": {
   "display_name": "Python 3",
   "language": "python",
   "name": "python3"
  },
  "language_info": {
   "codemirror_mode": {
    "name": "ipython",
    "version": 3
   },
   "file_extension": ".py",
   "mimetype": "text/x-python",
   "name": "python",
   "nbconvert_exporter": "python",
   "pygments_lexer": "ipython3",
   "version": "3.11.6"
  }
 },
 "nbformat": 4,
 "nbformat_minor": 2
}
