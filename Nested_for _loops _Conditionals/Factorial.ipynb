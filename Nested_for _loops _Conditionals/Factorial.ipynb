{
 "cells": [
  {
   "cell_type": "markdown",
   "metadata": {},
   "source": [
    "~ Given a list of positive integers, find the factorial of all the numbers."
   ]
  },
  {
   "cell_type": "code",
   "execution_count": 2,
   "metadata": {},
   "outputs": [
    {
     "name": "stdout",
     "output_type": "stream",
     "text": [
      "Factorial of 9 is : 362880\n",
      "Factorial of 8 is : 40320\n",
      "Factorial of 7 is : 5040\n",
      "Factorial of 6 is : 720\n",
      "Factorial of 5 is : 120\n",
      "Factorial of 4 is : 24\n",
      "Factorial of 3 is : 6\n",
      "Factorial of 0 is : 1\n"
     ]
    }
   ],
   "source": [
    "lst = [9,8,7,6,5,4,3,0]\n",
    "fact = 1\n",
    "for i in lst:\n",
    "    fact = 1\n",
    "    for j in range(i):\n",
    "        fact = fact*(j+1)\n",
    "    print('Factorial of',i,'is :',fact)"
   ]
  }
 ],
 "metadata": {
  "kernelspec": {
   "display_name": "Python 3",
   "language": "python",
   "name": "python3"
  },
  "language_info": {
   "codemirror_mode": {
    "name": "ipython",
    "version": 3
   },
   "file_extension": ".py",
   "mimetype": "text/x-python",
   "name": "python",
   "nbconvert_exporter": "python",
   "pygments_lexer": "ipython3",
   "version": "3.11.6"
  }
 },
 "nbformat": 4,
 "nbformat_minor": 2
}
