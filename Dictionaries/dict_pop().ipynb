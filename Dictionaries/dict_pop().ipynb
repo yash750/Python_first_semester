{
 "cells": [
  {
   "cell_type": "markdown",
   "metadata": {},
   "source": [
    "~ Remove a key from a dictionary:\n",
    "    dict_name.pop(key_name)\n",
    "    What does this function return?\n",
    "    Use pop to rename a key."
   ]
  },
  {
   "cell_type": "code",
   "execution_count": 5,
   "metadata": {},
   "outputs": [
    {
     "name": "stdout",
     "output_type": "stream",
     "text": [
      "dictionary before using pop():--  {'name': 'kelly', 'age': 25, 'salary': 8000, 'city': 'new york'}\n",
      "dictionary after using pop():--  {'name': 'kelly', 'age': 25, 'salary': 8000}\n",
      "dictionary after renaming key by using pop():-- {'age': 25, 'salary': 8000, 'username': 'kelly'}\n"
     ]
    }
   ],
   "source": [
    "sample_dict = {'name':'kelly','age':25 , 'salary':8000,'city':'new york'}\n",
    "print('dictionary before using pop():-- ',sample_dict)\n",
    "    # Pop() function removes given key(argument) and so it removes complete key_value pair.\n",
    "sample_dict.pop('city')\n",
    "    # pop() removes key but holds value of it , so we can rename a key by assigning value to another key_name.\n",
    "print('dictionary after using pop():-- ',sample_dict)\n",
    "sample_dict['username'] = sample_dict.pop('name')\n",
    "print('dictionary after renaming key by using pop():--',sample_dict)"
   ]
  }
 ],
 "metadata": {
  "kernelspec": {
   "display_name": "Python 3",
   "language": "python",
   "name": "python3"
  },
  "language_info": {
   "codemirror_mode": {
    "name": "ipython",
    "version": 3
   },
   "file_extension": ".py",
   "mimetype": "text/x-python",
   "name": "python",
   "nbconvert_exporter": "python",
   "pygments_lexer": "ipython3",
   "version": "3.11.6"
  }
 },
 "nbformat": 4,
 "nbformat_minor": 2
}
