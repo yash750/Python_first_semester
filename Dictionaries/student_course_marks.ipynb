{
 "cells": [
  {
   "cell_type": "markdown",
   "metadata": {},
   "source": [
    "~ Create a dictionary to store the total marks of 5 students in the class in 3 subjects (Course1, Course2, Course3). The keys must be the student names, and the values must be the list of marks. Create another list which has the course names in the same order as the marks are stored in the dictionary values. Now write a nested for loop to print the marks for each student exam wise."
   ]
  },
  {
   "cell_type": "code",
   "execution_count": 2,
   "metadata": {},
   "outputs": [
    {
     "name": "stdout",
     "output_type": "stream",
     "text": [
      "yash\n",
      "maths : 70\n",
      "physics : 80\n",
      "chemistry : 90\n",
      "\n",
      "ram\n",
      "maths : 60\n",
      "physics : 85\n",
      "chemistry : 96\n",
      "\n",
      "narayan\n",
      "maths : 77\n",
      "physics : 68\n",
      "chemistry : 50\n",
      "\n",
      "kanha\n",
      "maths : 74\n",
      "physics : 81\n",
      "chemistry : 62\n",
      "\n",
      "natu\n",
      "maths : 71\n",
      "physics : 55\n",
      "chemistry : 91\n",
      "\n"
     ]
    }
   ],
   "source": [
    "dict_marks = {'yash': [70, 80, 90], 'ram': [60, 85, 96], 'narayan': [77, 68, 50], 'kanha': [74, 81, 62], 'natu': [71, 55, 91]}\n",
    "course_name = ['maths','physics','chemistry']\n",
    "for name in dict_marks.keys():  \n",
    "    # This for loop iterates names of students as keys of given dictionary.\n",
    "    count=0\n",
    "    print(name)\n",
    "    for c in course_name:       \n",
    "        # This for loop iterates course_names with their corresponding values of each student marks.\n",
    "        # By indexing, we take marks of each student respectively to courses.\n",
    "        m = dict_marks[name][count]\n",
    "        count=count+1\n",
    "        print(c ,':',m)\n",
    "    print('')"
   ]
  }
 ],
 "metadata": {
  "kernelspec": {
   "display_name": "Python 3",
   "language": "python",
   "name": "python3"
  },
  "language_info": {
   "codemirror_mode": {
    "name": "ipython",
    "version": 3
   },
   "file_extension": ".py",
   "mimetype": "text/x-python",
   "name": "python",
   "nbconvert_exporter": "python",
   "pygments_lexer": "ipython3",
   "version": "3.11.6"
  }
 },
 "nbformat": 4,
 "nbformat_minor": 2
}
