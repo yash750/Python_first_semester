{
 "cells": [
  {
   "cell_type": "markdown",
   "metadata": {},
   "source": [
    "~ Create a dictionary whose keys are the names of your family members and friends, and the values are the list of fruits they like to eat. Now if the user gives a fruit as       input, the code should print the list of names who like this fruit. Write another code to print the list of people who do not like this fruit. Using this dictionary as input, write a code to make a consolidated list of all the fruit names present in the values of various keys. This list should not have any duplicate entries. Do not use the set() function."
   ]
  },
  {
   "cell_type": "code",
   "execution_count": 13,
   "metadata": {},
   "outputs": [
    {
     "name": "stdout",
     "output_type": "stream",
     "text": [
      "Distinct fruits liked by family members (consolidated list) : ['apple', 'orange', 'chiku', 'guava', 'pomegranate', 'sitafal', 'banana', 'mango', 'grapes', 'papaya']\n",
      "Given fruit is : banana\n",
      "given fruit liked by : ['yash', 'papa']\n",
      "given fruit doesnt liked by : ['Maa', 'neelam']\n"
     ]
    }
   ],
   "source": [
    "family = {'Maa':['apple','orange','chiku','guava','pomegranate'],'yash':['sitafal','banana','mango','guava'],'papa':['grapes','banana','sitafal','papaya'],'neelam':['mango','grapes','orange']}\n",
    "l2 = []\n",
    "for i in family.values():  # iterating fruit names liked by family members\n",
    "    for j in i:\n",
    "        if j not in l2:    # verifying anyname wouldnt repeat.\n",
    "            l2.append(j)\n",
    "# Here we make a consolidated list of fruits like by family members(all entries are unique).\n",
    "print('Distinct fruits liked by family members (consolidated list) :',l2)\n",
    "fruit = input('enter fruit name :')\n",
    "print('Given fruit is :',fruit)\n",
    "like_fruit = []\n",
    "notlike_fruit = []\n",
    "if fruit in l2:\n",
    "    # here, we check given fruit is liked by which one, by checking its existence in values of dictionary.\n",
    "    for key,value in family.items():\n",
    "        if fruit in value:\n",
    "            like_fruit.append(key)\n",
    "        elif fruit not in value:\n",
    "            notlike_fruit.append(key)\n",
    "    print('given fruit liked by :',like_fruit)\n",
    "    print('given fruit doesnt liked by :',notlike_fruit)\n",
    "else:\n",
    "    # If  given fruit is not in consolidated list, then it is obevious that it is not liked by anyone.\n",
    "    print('Given fruit doesnt liked by anyone in family')"
   ]
  }
 ],
 "metadata": {
  "kernelspec": {
   "display_name": "Python 3",
   "language": "python",
   "name": "python3"
  },
  "language_info": {
   "codemirror_mode": {
    "name": "ipython",
    "version": 3
   },
   "file_extension": ".py",
   "mimetype": "text/x-python",
   "name": "python",
   "nbconvert_exporter": "python",
   "pygments_lexer": "ipython3",
   "version": "3.11.6"
  }
 },
 "nbformat": 4,
 "nbformat_minor": 2
}
