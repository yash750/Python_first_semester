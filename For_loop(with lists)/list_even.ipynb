{
 "cells": [
  {
   "cell_type": "markdown",
   "metadata": {},
   "source": [
    "~ Given a list of numbers, find all the even numbers in it"
   ]
  },
  {
   "cell_type": "code",
   "execution_count": 1,
   "metadata": {},
   "outputs": [
    {
     "name": "stdout",
     "output_type": "stream",
     "text": [
      "0 is even\n",
      "2 is even\n",
      "4 is even\n",
      "6 is even\n",
      "8 is even\n",
      "Even numbers are : [0, 2, 4, 6, 8]\n"
     ]
    }
   ],
   "source": [
    "l = [0,1,2,3,4,5,6,7,8,9]           # Take list of random numbers for checking even or not.\n",
    "#l=[1.2,4.7,5,-6 ,-5.5,-4.4 ,0.2,0,-0.4]\n",
    "list_even = []\n",
    "for i in l:\n",
    "    if isinstance(i,int):\n",
    "        if i % 2 == 0:\n",
    "            print(i,'is even')     # Even numbers are integers (whole numbers) that are divisible by 2 without leaving a remainder. \n",
    "            list_even.append(i)    # So, decimal or fractional number, does not fit the definition of an even number.\n",
    "    else:\n",
    "        print(i,'is not integer')\n",
    "print('Even numbers are :',list_even)"
   ]
  }
 ],
 "metadata": {
  "kernelspec": {
   "display_name": "Python 3",
   "language": "python",
   "name": "python3"
  },
  "language_info": {
   "codemirror_mode": {
    "name": "ipython",
    "version": 3
   },
   "file_extension": ".py",
   "mimetype": "text/x-python",
   "name": "python",
   "nbconvert_exporter": "python",
   "pygments_lexer": "ipython3",
   "version": "3.11.6"
  }
 },
 "nbformat": 4,
 "nbformat_minor": 2
}
