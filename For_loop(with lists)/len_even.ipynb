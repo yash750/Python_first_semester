{
 "cells": [
  {
   "cell_type": "markdown",
   "metadata": {},
   "source": [
    "~ Given a list of numbers, find out how many even numbers it has."
   ]
  },
  {
   "cell_type": "code",
   "execution_count": 4,
   "metadata": {},
   "outputs": [
    {
     "name": "stdout",
     "output_type": "stream",
     "text": [
      "Total even numbers in given list: 6\n"
     ]
    }
   ],
   "source": [
    "l = [0,1,2,3,4,5,6,7,8,9,-10,1.2]       # Take list of random numbers\n",
    "count = 0\n",
    "for i in l:\n",
    "    if isinstance(i,int):                # Check numbers are even or not :\n",
    "        if i % 2 == 0:                   #           (1). numbers should be integers.\n",
    "            count = count+1              #           (2). remainder should be zero ,while divided by 2.\n",
    "print('Total even numbers in given list:',count)    # Counts total number of even numbers in given list. "
   ]
  }
 ],
 "metadata": {
  "kernelspec": {
   "display_name": "Python 3",
   "language": "python",
   "name": "python3"
  },
  "language_info": {
   "codemirror_mode": {
    "name": "ipython",
    "version": 3
   },
   "file_extension": ".py",
   "mimetype": "text/x-python",
   "name": "python",
   "nbconvert_exporter": "python",
   "pygments_lexer": "ipython3",
   "version": "3.11.6"
  }
 },
 "nbformat": 4,
 "nbformat_minor": 2
}
