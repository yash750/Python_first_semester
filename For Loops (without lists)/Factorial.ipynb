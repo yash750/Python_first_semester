{
 "cells": [
  {
   "cell_type": "markdown",
   "metadata": {},
   "source": [
    "~ Given a positive integer, find out its factorial."
   ]
  },
  {
   "cell_type": "code",
   "execution_count": null,
   "metadata": {},
   "outputs": [],
   "source": [
    "n = int(input('Enter a positive integer:'))                 # Take input as positive integer for finding its factorial.\n",
    "if n >= 0:                                                  # Factorial defined for only positive integers.\n",
    "    fact = 1\n",
    "    for i in range(n):\n",
    "        fact = fact*(i+1)                                   # factorial of any number = n! = n*(n-1)(n-2)(n-3)..........3.2.1\n",
    "    print('Factorial of given number is:'fact)              # So, we multiply numbers one by one upto given integer.\n",
    "else:\n",
    "    print('Only positive integers are valid input.')"
   ]
  }
 ],
 "metadata": {
  "kernelspec": {
   "display_name": "Python 3",
   "language": "python",
   "name": "python3"
  },
  "language_info": {
   "name": "python",
   "version": "3.11.6"
  }
 },
 "nbformat": 4,
 "nbformat_minor": 2
}
