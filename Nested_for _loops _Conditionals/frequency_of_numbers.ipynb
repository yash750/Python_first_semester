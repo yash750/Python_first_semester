{
 "cells": [
  {
   "cell_type": "markdown",
   "metadata": {},
   "source": [
    "~ Given a list of numbers, find out how many times each number occurs in the list."
   ]
  },
  {
   "cell_type": "code",
   "execution_count": 7,
   "metadata": {},
   "outputs": [
    {
     "name": "stdout",
     "output_type": "stream",
     "text": [
      "2 --> occurs in list--- : 2 times.\n",
      "3 --> occurs in list--- : 3 times.\n",
      "4 --> occurs in list--- : 4 times.\n",
      "0 --> occurs in list--- : 1 times.\n",
      "-6 --> occurs in list--- : 1 times.\n",
      "-5 --> occurs in list--- : 1 times.\n",
      "-4.5 --> occurs in list--- : 2 times.\n",
      "7 --> occurs in list--- : 3 times.\n"
     ]
    }
   ],
   "source": [
    "lst = [2,2,3,3,3,4,4,4,4,0,-6,-5,-4.5,-4.5,7,7,7]\n",
    "ln =[]\n",
    "for i in lst:\n",
    "    # appending all unique numbers into empty list.\n",
    "    if i not in ln:\n",
    "        ln.append(i)\n",
    "for j in ln:\n",
    "    count = 0\n",
    "    # comparing all numbers with new list elements and count its occurence.\n",
    "    for k in lst:\n",
    "        if j == k:\n",
    "            count = count+1\n",
    "    print(j,'--> occurs in list--- :',count,'times.')"
   ]
  }
 ],
 "metadata": {
  "kernelspec": {
   "display_name": "Python 3",
   "language": "python",
   "name": "python3"
  },
  "language_info": {
   "codemirror_mode": {
    "name": "ipython",
    "version": 3
   },
   "file_extension": ".py",
   "mimetype": "text/x-python",
   "name": "python",
   "nbconvert_exporter": "python",
   "pygments_lexer": "ipython3",
   "version": "3.11.6"
  }
 },
 "nbformat": 4,
 "nbformat_minor": 2
}
