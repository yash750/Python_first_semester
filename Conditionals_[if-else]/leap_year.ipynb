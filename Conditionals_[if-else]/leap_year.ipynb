{
 "cells": [
  {
   "cell_type": "markdown",
   "metadata": {},
   "source": [
    "~ Given a year, check if it is a leap year or not. A leap year is divisible by 4, except for years that are divisible by 100. However, years that are divisible by 400 are also leap years."
   ]
  },
  {
   "cell_type": "code",
   "execution_count": 2,
   "metadata": {},
   "outputs": [
    {
     "name": "stdout",
     "output_type": "stream",
     "text": [
      "It is a leap year\n"
     ]
    }
   ],
   "source": [
    "year = int(input('Enter a year to check:'))             # Take a input year to check whether it is a leap year or not.\n",
    "if year % 4 == 0 and year % 100 != 0:\n",
    "    print('It is a leap year')              # logic to check leap year ------- Leap years are divisible by 4 and also not divisible by 100 at same time.\n",
    "elif year % 400 == 0:                       #                                  Years divisible by 400 are also Leap years.\n",
    "    print('It is a leap year')\n",
    "else:\n",
    "    print('Not a Leap year')                            # Rest of years are not leap years."
   ]
  }
 ],
 "metadata": {
  "kernelspec": {
   "display_name": "Python 3",
   "language": "python",
   "name": "python3"
  },
  "language_info": {
   "codemirror_mode": {
    "name": "ipython",
    "version": 3
   },
   "file_extension": ".py",
   "mimetype": "text/x-python",
   "name": "python",
   "nbconvert_exporter": "python",
   "pygments_lexer": "ipython3",
   "version": "3.11.6"
  }
 },
 "nbformat": 4,
 "nbformat_minor": 2
}
