{
 "cells": [
  {
   "cell_type": "markdown",
   "metadata": {},
   "source": [
    "~ Given two numbers, find its Greatest Common Divisor (Divisor)."
   ]
  },
  {
   "cell_type": "code",
   "execution_count": 3,
   "metadata": {},
   "outputs": [
    {
     "name": "stdout",
     "output_type": "stream",
     "text": [
      "hcf is  2\n"
     ]
    }
   ],
   "source": [
    "a=42\n",
    "b=16\n",
    "if a != 0 and b != 0:\n",
    "    for i in range(1,min(a,b)):\n",
    "    # any number which divides both given numbers simultaneously is greatest common divisor.\n",
    "        if a%i==0 and b%i==0:\n",
    "            hcf=i\n",
    "    print(\"hcf is \", hcf)\n",
    "else:\n",
    "    print('One of number is zero , HCD is Not Defined.')"
   ]
  }
 ],
 "metadata": {
  "kernelspec": {
   "display_name": "Python 3",
   "language": "python",
   "name": "python3"
  },
  "language_info": {
   "codemirror_mode": {
    "name": "ipython",
    "version": 3
   },
   "file_extension": ".py",
   "mimetype": "text/x-python",
   "name": "python",
   "nbconvert_exporter": "python",
   "pygments_lexer": "ipython3",
   "version": "3.11.6"
  }
 },
 "nbformat": 4,
 "nbformat_minor": 2
}
