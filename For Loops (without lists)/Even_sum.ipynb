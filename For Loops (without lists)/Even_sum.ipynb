{
 "cells": [
  {
   "cell_type": "markdown",
   "metadata": {},
   "source": [
    "~ Given a positive integer, find out the sum of all even numbers from 2 up to this number."
   ]
  },
  {
   "cell_type": "code",
   "execution_count": 2,
   "metadata": {},
   "outputs": [
    {
     "name": "stdout",
     "output_type": "stream",
     "text": [
      "Sum of even numbers upto given number: 20\n"
     ]
    }
   ],
   "source": [
    "n = int(input('Enter a positive integer:'))                     # Take a positive integer from user as an input.\n",
    "if n > 0:\n",
    "    Sum = 0\n",
    "    for i in range(2,n+1,2):                                    # By using for loop, we iterates even numbers upto given number one by one and then added them.\n",
    "        Sum = Sum + i\n",
    "    print('Sum of even numbers upto given number:',Sum)\n",
    "else:\n",
    "    print('Only positive integers are valid inputs.')"
   ]
  }
 ],
 "metadata": {
  "kernelspec": {
   "display_name": "Python 3",
   "language": "python",
   "name": "python3"
  },
  "language_info": {
   "codemirror_mode": {
    "name": "ipython",
    "version": 3
   },
   "file_extension": ".py",
   "mimetype": "text/x-python",
   "name": "python",
   "nbconvert_exporter": "python",
   "pygments_lexer": "ipython3",
   "version": "3.11.6"
  }
 },
 "nbformat": 4,
 "nbformat_minor": 2
}
