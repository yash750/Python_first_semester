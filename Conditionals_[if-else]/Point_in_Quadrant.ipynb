{
 "cells": [
  {
   "cell_type": "markdown",
   "metadata": {},
   "source": [
    "~ Given a point (x1, y1), find the quadrant in which this point lies."
   ]
  },
  {
   "cell_type": "code",
   "execution_count": 10,
   "metadata": {},
   "outputs": [
    {
     "name": "stdout",
     "output_type": "stream",
     "text": [
      "First quadrant\n"
     ]
    }
   ],
   "source": [
    "x = float(input('Enter x-coordinate of point:'))                   # Take x and y coordinates of point ,to find its corresponding quadrant.\n",
    "y = float(input('Enter y-coordinate of point:'))\n",
    "if x == 0:\n",
    "    if y == 0:\n",
    "        print('point on origin')\n",
    "    elif y < 0:\n",
    "        print('point on -ve y axis')\n",
    "    else:\n",
    "        print('point on +ve y axis')                                # Mathematical conditions to find a location of point.\n",
    "elif y == 0:                                                        # When x or y coordinates are zero , then point is on origin or on axis.\n",
    "    if x == 0:\n",
    "        print('point on origin')\n",
    "    elif x > 0:\n",
    "        print('point on +ve x axis')\n",
    "    else:\n",
    "        print('point on -ve x axis')\n",
    "elif x > 0 and y > 0:                                               # Different quadrants are decided by different values of x and y coordinates.\n",
    "    print('First quadrant')\n",
    "elif x < 0 and y > 0:\n",
    "    print('Second quadrant')\n",
    "elif x < 0 and y < 0:\n",
    "    print('Third quadrant')\n",
    "else:\n",
    "    print('Fourth quadrant')"
   ]
  }
 ],
 "metadata": {
  "kernelspec": {
   "display_name": "Python 3",
   "language": "python",
   "name": "python3"
  },
  "language_info": {
   "codemirror_mode": {
    "name": "ipython",
    "version": 3
   },
   "file_extension": ".py",
   "mimetype": "text/x-python",
   "name": "python",
   "nbconvert_exporter": "python",
   "pygments_lexer": "ipython3",
   "version": "3.11.6"
  }
 },
 "nbformat": 4,
 "nbformat_minor": 2
}
