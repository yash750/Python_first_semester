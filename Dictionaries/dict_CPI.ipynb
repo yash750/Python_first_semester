{
 "cells": [
  {
   "cell_type": "markdown",
   "metadata": {},
   "source": [
    "~ Write a for loop to create another dictionary from the above where the marks are replaced by grades. Above 80 is A grade, 60–80 is B grade, 40–60 is C grade, and below 40      is F. Create another dictionary to store the max and average marks for each student. Use this dictionary to compute the final CPI/CGPA of the student. Course1 is of 4 credits, Course2 of 10 credits, and Course3 of 6 credits. Store these credits in a list.\n",
    "Write this dictionary as a json file, and read it back into a new dictionary."
   ]
  },
  {
   "cell_type": "code",
   "execution_count": 4,
   "metadata": {},
   "outputs": [
    {
     "name": "stdout",
     "output_type": "stream",
     "text": [
      "Dict for grades of each student : {'yash': ['B', 'F', 'A'], 'ram': ['F', 'A', 'A'], 'narayan': ['B', 'B', 'C'], 'kanha': ['B', 'A', 'B'], 'natu': ['B', 'C', 'A']}\n",
      "Dict for maximum and average of each student : {'yash': [90, 80.0], 'ram': [96, 80.33333333333333], 'narayan': [77, 65.0], 'kanha': [81, 72.33333333333333], 'natu': [91, 72.33333333333333]}\n",
      "grade points of each student: {'yash': [8, 0, 10], 'ram': [0, 10, 10], 'narayan': [8, 8, 6], 'kanha': [8, 10, 8], 'natu': [8, 6, 10]}\n",
      "CPI of each students are : {'yash': 4.6, 'ram': 8.0, 'narayan': 7.4, 'kanha': 9.0, 'natu': 7.6}\n"
     ]
    }
   ],
   "source": [
    "dict_marks = {'yash': [70, 80, 90], 'ram': [60, 85, 96], 'narayan': [77, 68, 50], 'kanha': [74, 81, 62], 'natu': [71, 55, 91]}\n",
    "max_avg = {}\n",
    "for  k,v in dict_marks.items():\n",
    "    maximum = max(v)\n",
    "    avg = sum(v)/len(v)\n",
    "    max_avg[k] = [maximum,avg]\n",
    "    count=0\n",
    "    for e in v:                         # According to marks, grades are assigned.\n",
    "        if e > 80 :                     # Above 80 -- A grade\n",
    "            e = 'A'                     # between 60 - 80 --- B grade\n",
    "        elif e > 60 and e < 80:         # between 40 - 60 --- C grade\n",
    "            e = 'B'                     # below 40 ---  F grade\n",
    "        elif e > 40 and e < 60:\n",
    "            e = 'C'\n",
    "        else:\n",
    "            e = 'F'\n",
    "        v[count] = e\n",
    "        count = count+1\n",
    "print('Dict for grades of each student :',dict_marks)\n",
    "print('Dict for maximum and average of each student :',max_avg)\n",
    "dict_grade = dict_marks.copy()\n",
    "credits = [4,10,6]\n",
    "total_credits = sum(credits)\n",
    "for n , g in dict_grade.items():\n",
    "    count = 0                                             # First we have to assign grade points to grades to compute CPI.\n",
    "    for g1 in g:\n",
    "        if g1 == 'A':\n",
    "            g1 = 10\n",
    "        elif g1 == 'B':\n",
    "            g1 = 8\n",
    "        elif g1 == 'C':\n",
    "            g1 = 6\n",
    "        else:\n",
    "            g1 = 0\n",
    "        g[count] = g1\n",
    "        count = count+1\n",
    "print('grade points of each student:',dict_grade)             # we convert the grades into grade points.\n",
    "tgp = {}\n",
    "for key ,value in dict_grade.items():\n",
    "    Sum = sum(value)\n",
    "    tgp[key]=Sum \n",
    "#print('total grade points of each students are:',tgp)    # Total grade points secured by each students.\n",
    "cpi_summation = []\n",
    "for t in dict_grade.values():                                   # here, we use concept of CPI :\n",
    "    S = 0                                          # CPI = (Σ(Grade Points for Each Course * Credits for Each Course)) / (Total Credits)\n",
    "    c = 0                                              # so , we make a list of summations and then divide them by total credits one by one.\n",
    "    for a in t:                                       \n",
    "        S = S + (a*(credits[c]))\n",
    "        c = c+1\n",
    "    cpi_summation.append(S)\n",
    "#print('cpi_summation of each student:',cpi_summation)\n",
    "cpi_list = []\n",
    "for b in cpi_summation:                                 # On dividing summations by total credits we get CPI's.\n",
    "    cpi = b/total_credits\n",
    "    cpi_list.append(cpi)\n",
    "#print('cpi_list of students :',cpi_list)\n",
    "dict_cpi = {}\n",
    "x = 0                                                   # then , we make a dictionary (key = name of students ; value = CPI)\n",
    "for k1 in dict_grade.keys():\n",
    "        dict_cpi[k1] = cpi_list[x]\n",
    "        x = x+1\n",
    "print('CPI of each students are :',dict_cpi)"
   ]
  },
  {
   "cell_type": "code",
   "execution_count": 6,
   "metadata": {},
   "outputs": [
    {
     "name": "stdout",
     "output_type": "stream",
     "text": [
      "{'yash': 4.6, 'ram': 8.0, 'narayan': 7.4, 'kanha': 9.0, 'natu': 7.6}\n"
     ]
    }
   ],
   "source": [
    "import json\n",
    "with open(\"cpi.json\", 'w') as json_file:\n",
    "    # Use json.dump() to write the dictionary to the file\n",
    "    json.dump(dict_cpi, json_file, indent=4)\n",
    "\n",
    "with open(\"cpi.json\", 'r') as json_file:\n",
    "    # Use json.load() to read the dictionary from the file\n",
    "    newdict = json.load(json_file)\n",
    "\n",
    "print(newdict)"
   ]
  }
 ],
 "metadata": {
  "kernelspec": {
   "display_name": "Python 3",
   "language": "python",
   "name": "python3"
  },
  "language_info": {
   "codemirror_mode": {
    "name": "ipython",
    "version": 3
   },
   "file_extension": ".py",
   "mimetype": "text/x-python",
   "name": "python",
   "nbconvert_exporter": "python",
   "pygments_lexer": "ipython3",
   "version": "3.11.6"
  }
 },
 "nbformat": 4,
 "nbformat_minor": 2
}
