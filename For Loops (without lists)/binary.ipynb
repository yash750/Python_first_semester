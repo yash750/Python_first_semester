{
 "cells": [
  {
   "cell_type": "code",
   "execution_count": 8,
   "metadata": {},
   "outputs": [
    {
     "name": "stdout",
     "output_type": "stream",
     "text": [
      "101"
     ]
    }
   ],
   "source": [
    "n = 5           # Code for Decimal into binary\n",
    "l = []\n",
    "if n > 0 and isinstance(n,int):\n",
    "    while n > 0:\n",
    "        r = n%2 # for changing decimal into binary,given number is divided by 2 continously and separating remainders.\n",
    "        n = n//2\n",
    "        l.append(r)\n",
    "    l.reverse()   # reverse order of all remainders are required binary value of given decimal number.\n",
    "    for i in l:\n",
    "        print(i,end='')\n",
    "else:\n",
    "    print('only positive integers are valid input.')\n"
   ]
  },
  {
   "cell_type": "code",
   "execution_count": 19,
   "metadata": {},
   "outputs": [
    {
     "name": "stdout",
     "output_type": "stream",
     "text": [
      "Decimal value of given binary number is : 7\n"
     ]
    }
   ],
   "source": [
    "# Code for binary into decimal.\n",
    "n2 = 111\n",
    "sample = [1,0]\n",
    "l2 = []\n",
    "if n2 > 0 and isinstance(n2,int):\n",
    "  while n2 > 0:\n",
    "    r2 = n2%10 \n",
    "    n2 = n2//10\n",
    "    l2.append(r2)  # Iterating all its digits to check its nature for binary concept.\n",
    "  #print(l2)\n",
    "  for t in l2:\n",
    "    if t in sample: # Checking whether the given number is binary or not.\n",
    "      result = True # By using list named 'sample' consisting 1 and 0.\n",
    "    else:\n",
    "      result = False\n",
    "      break\n",
    "  if result:\n",
    "    output = 0\n",
    "    p = 0\n",
    "    for e in l2:\n",
    "      output = output + (e*(2**(p)))\n",
    "      p = p + 1\n",
    "    print('Decimal value of given binary number is :',output)\n",
    "  else:\n",
    "    print('Given number is not binary.')\n",
    "else:\n",
    "  print('Only positive integers are valid input.')\n"
   ]
  }
 ],
 "metadata": {
  "kernelspec": {
   "display_name": "Python 3",
   "language": "python",
   "name": "python3"
  },
  "language_info": {
   "codemirror_mode": {
    "name": "ipython",
    "version": 3
   },
   "file_extension": ".py",
   "mimetype": "text/x-python",
   "name": "python",
   "nbconvert_exporter": "python",
   "pygments_lexer": "ipython3",
   "version": "3.11.6"
  }
 },
 "nbformat": 4,
 "nbformat_minor": 2
}
