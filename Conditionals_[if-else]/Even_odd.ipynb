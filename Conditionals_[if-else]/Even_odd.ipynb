{
 "cells": [
  {
   "cell_type": "markdown",
   "metadata": {},
   "source": [
    "~  Given an integer, check if it is even or odd."
   ]
  },
  {
   "cell_type": "code",
   "execution_count": 1,
   "metadata": {},
   "outputs": [
    {
     "name": "stdout",
     "output_type": "stream",
     "text": [
      "odd number\n"
     ]
    }
   ],
   "source": [
    "num = int(input(\"enter a number to check:\"))        # Take a input from user to check even_odd.\n",
    "if num % 2 == 0 and num != 0:                       # Numbers completely divisible by 2 and give remainder 0 are even ,so first we check the same.\n",
    "    print(' even number')\n",
    "elif num == 0:                                      # 0 % 2 also gives remainder zero , so we have to take care of it.\n",
    "    print('It is zero')\n",
    "else:\n",
    "    print('odd number')                             # Rest of all integers are definetely odd."
   ]
  }
 ],
 "metadata": {
  "kernelspec": {
   "display_name": "Python 3",
   "language": "python",
   "name": "python3"
  },
  "language_info": {
   "codemirror_mode": {
    "name": "ipython",
    "version": 3
   },
   "file_extension": ".py",
   "mimetype": "text/x-python",
   "name": "python",
   "nbconvert_exporter": "python",
   "pygments_lexer": "ipython3",
   "version": "3.11.6"
  }
 },
 "nbformat": 4,
 "nbformat_minor": 2
}
