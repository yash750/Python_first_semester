{
 "cells": [
  {
   "cell_type": "markdown",
   "metadata": {},
   "source": [
    "~ Given a list of numbers, sort it in ascending order."
   ]
  },
  {
   "cell_type": "code",
   "execution_count": 6,
   "metadata": {},
   "outputs": [
    {
     "name": "stdout",
     "output_type": "stream",
     "text": [
      "[-4, 0, 1, 5, 10, 34, 78, 78.5]\n"
     ]
    }
   ],
   "source": [
    "l = [1,0,-4,5,78,78.5,34,10]\n",
    "for i in range(len(l)):\n",
    "    # Use the outer loop, for transverse all elements of given list.\n",
    "    for j in range(0,len(l)-(i+1)):\n",
    "    # Use inner loop, for compare and swapping of adjacent elements.\n",
    "        if l[j] > l[j+1]:\n",
    "            l[j],l[j+1] =l[j+1],l[j]\n",
    "print(l)"
   ]
  }
 ],
 "metadata": {
  "kernelspec": {
   "display_name": "Python 3",
   "language": "python",
   "name": "python3"
  },
  "language_info": {
   "codemirror_mode": {
    "name": "ipython",
    "version": 3
   },
   "file_extension": ".py",
   "mimetype": "text/x-python",
   "name": "python",
   "nbconvert_exporter": "python",
   "pygments_lexer": "ipython3",
   "version": "3.11.6"
  }
 },
 "nbformat": 4,
 "nbformat_minor": 2
}
