{
 "cells": [
  {
   "cell_type": "markdown",
   "metadata": {},
   "source": [
    "~ Given two points (x1, y1) and (x2, y2), find the slope and intercept of the line joining these two points (the line may be perfectly horizontal or vertical)."
   ]
  },
  {
   "cell_type": "code",
   "execution_count": 17,
   "metadata": {},
   "outputs": [
    {
     "name": "stdout",
     "output_type": "stream",
     "text": [
      "(-1, 0) (4, 6)\n",
      "intercept is: 1.2\n",
      "slope is : 1.2\n"
     ]
    }
   ],
   "source": [
    "x1 = float(input('Enter x-coordinate of point1:'))       # Take coordinates of two points as input from user.\n",
    "y1 = float(input('Enter y-coordinate of point1:'))\n",
    "x2 = float(input('Enter x-coordinate of point2:'))\n",
    "y2 = float(input('Enter y-coordinate of point2:'))\n",
    "#x1,y1,x2,y2= 2,5,2,1                                  These are the input test cases according to different possibilities.\n",
    "#x1,y1,x2,y2= 2,5,3,5\n",
    "#x1,y1,x2,y2= -1,0,4,6\n",
    "#x1,y1,x2,y2= 5,5,5,5\n",
    "print((x1,y1),(x2,y2))\n",
    "X, Y = x2-x1, y2-y1\n",
    "if X != 0:\n",
    "    if Y != 0:                                              # Mathematical logic to find slope from two points.\n",
    "        slope= Y/X                                          # slope = (y2-y1)/(x2-x1)#For intercept : by comparing equations y=mx\n",
    "        c=(y1-x1)*(Y/X)                                     # For intercept : by comparing equations y=mx and (y-y1)= slope*(x-x1) we get , intercept= (y1-x1)*(slope)\n",
    "        print('intercept is:',c)\n",
    "        print('slope is :',slope)\n",
    "    else:                                                   # For horizantal and vertical lines, intercept are not defined.\n",
    "        print('slope is zero')\n",
    "        print('line is Horizantal')\n",
    "elif X == Y:                                                # If all coordinates are same , then it leads to both points same i.e a single point.\n",
    "    print('both points are same')                           # Slope and intercept are defined for line, not for a single point.\n",
    "    print('slope and intercept : Not defined for single point')\n",
    "else:\n",
    "    print('slope is infinte')                           # If X (denominator in slope) is zero , slope will be infinite ,in this condition we cannot find intercept.\n",
    "    print('line is vertical')"
   ]
  }
 ],
 "metadata": {
  "kernelspec": {
   "display_name": "Python 3",
   "language": "python",
   "name": "python3"
  },
  "language_info": {
   "codemirror_mode": {
    "name": "ipython",
    "version": 3
   },
   "file_extension": ".py",
   "mimetype": "text/x-python",
   "name": "python",
   "nbconvert_exporter": "python",
   "pygments_lexer": "ipython3",
   "version": "3.11.6"
  }
 },
 "nbformat": 4,
 "nbformat_minor": 2
}
