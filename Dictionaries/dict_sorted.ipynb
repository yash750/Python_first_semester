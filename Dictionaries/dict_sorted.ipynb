{
 "cells": [
  {
   "cell_type": "markdown",
   "metadata": {},
   "source": [
    "~ Create a dictionary of your marks in various subjects and then sort it by its values first in descending order, and then in or ascending order. Do not use any inbuilt sorting functions."
   ]
  },
  {
   "cell_type": "code",
   "execution_count": 26,
   "metadata": {},
   "outputs": [
    {
     "name": "stdout",
     "output_type": "stream",
     "text": [
      "Given dictionary sorted in descending order of marks :  {'cs105': 65, 'english': 50, 'java': 30, 'python': 27, 'maths': 20}\n",
      "Given dictionary sorted in ascending order of marks :  {'maths': 20, 'python': 27, 'java': 30, 'english': 50, 'cs105': 65}\n"
     ]
    }
   ],
   "source": [
    "marks = {'maths': 20, 'python': 27, 'java': 30, 'english':50, 'cs105':65}\n",
    "marks_dsc = marks.copy()\n",
    "marks_asc = marks.copy()\n",
    "l1 = list(marks.values())\n",
    "# arranging all values in descending order.\n",
    "for a in range(len(l1)):\n",
    "    # Use the outer loop, for transverse all elements of given list.\n",
    "    for b in range(0,len(l1)-(a+1)):\n",
    "        # Use inner loop, for compare and swapping of adjacent elements.\n",
    "        if l1[b] < l1[b+1]:\n",
    "            l1[b],l1[b+1] =l1[b+1],l1[b]\n",
    "#print(l1)\n",
    "marks_dsc ={}\n",
    "# iterating descending arranged values from list and assiging their corresponding values.\n",
    "for v in l1:\n",
    "    for k,v2 in marks.items():\n",
    "        if v2 == v:\n",
    "            marks_dsc[k] = v2\n",
    "print('Given dictionary sorted in descending order of marks : ',marks_dsc)\n",
    "# Same as above , this nested loop arrange values in order by comparing adjacent values.\n",
    "for a in range(len(l1)):\n",
    "    for b in range(0,len(l1)-(a+1)):\n",
    "        if l1[b] > l1[b+1]:\n",
    "            l1[b],l1[b+1] =l1[b+1],l1[b]\n",
    "#print(l1)\n",
    "marks_asc ={}\n",
    "for v in l1:\n",
    "    for k,v2 in marks.items():\n",
    "        if v2 == v:\n",
    "            marks_asc[k] = v2\n",
    "print('Given dictionary sorted in ascending order of marks : ',marks_asc)"
   ]
  }
 ],
 "metadata": {
  "kernelspec": {
   "display_name": "Python 3",
   "language": "python",
   "name": "python3"
  },
  "language_info": {
   "codemirror_mode": {
    "name": "ipython",
    "version": 3
   },
   "file_extension": ".py",
   "mimetype": "text/x-python",
   "name": "python",
   "nbconvert_exporter": "python",
   "pygments_lexer": "ipython3",
   "version": "3.11.6"
  }
 },
 "nbformat": 4,
 "nbformat_minor": 2
}
